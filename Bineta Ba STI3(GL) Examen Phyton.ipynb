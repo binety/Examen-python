{
 "cells": [
  {
   "cell_type": "code",
   "execution_count": 229,
   "id": "5491b753-f536-40b6-b87c-47c0a3066976",
   "metadata": {},
   "outputs": [],
   "source": [
    "import numpy as np\n",
    "import matplotlib.pyplot as plt\n",
    "import pandas as pd\n",
    "import seaborn as sns"
   ]
  },
  {
   "cell_type": "code",
   "execution_count": 230,
   "id": "6675e4bd-7e1b-4f9a-b15b-001fb2e26347",
   "metadata": {},
   "outputs": [],
   "source": [
    "#afficher les données\n",
    "df_main=pd.read_csv(\"df_main.csv\")\n",
    "#afficher les données\n",
    "df_labs=pd.read_csv(\"df_labs.csv\")"
   ]
  },
  {
   "cell_type": "code",
   "execution_count": 21,
   "id": "13285a7e-c2d4-4a9e-85d6-dde93b4cb805",
   "metadata": {},
   "outputs": [
    {
     "name": "stdout",
     "output_type": "stream",
     "text": [
      "afficher les données de df_main:\n"
     ]
    },
    {
     "data": {
      "text/html": [
       "<div>\n",
       "<style scoped>\n",
       "    .dataframe tbody tr th:only-of-type {\n",
       "        vertical-align: middle;\n",
       "    }\n",
       "\n",
       "    .dataframe tbody tr th {\n",
       "        vertical-align: top;\n",
       "    }\n",
       "\n",
       "    .dataframe thead th {\n",
       "        text-align: right;\n",
       "    }\n",
       "</style>\n",
       "<table border=\"1\" class=\"dataframe\">\n",
       "  <thead>\n",
       "    <tr style=\"text-align: right;\">\n",
       "      <th></th>\n",
       "      <th>Age</th>\n",
       "      <th>Sexe</th>\n",
       "      <th>Ville</th>\n",
       "      <th>DateTest</th>\n",
       "      <th>Glucose</th>\n",
       "      <th>BloodPressure</th>\n",
       "      <th>Insulin</th>\n",
       "      <th>BMI</th>\n",
       "      <th>Outcome</th>\n",
       "      <th>TestID</th>\n",
       "    </tr>\n",
       "  </thead>\n",
       "  <tbody>\n",
       "    <tr>\n",
       "      <th>0</th>\n",
       "      <td>56</td>\n",
       "      <td>Homme</td>\n",
       "      <td>Marseille</td>\n",
       "      <td>2023-07-07</td>\n",
       "      <td>100</td>\n",
       "      <td>140</td>\n",
       "      <td>200</td>\n",
       "      <td>15</td>\n",
       "      <td>1</td>\n",
       "      <td>34162</td>\n",
       "    </tr>\n",
       "    <tr>\n",
       "      <th>1</th>\n",
       "      <td>69</td>\n",
       "      <td>Femme</td>\n",
       "      <td>Tokyo</td>\n",
       "      <td>2021-07-13</td>\n",
       "      <td>400</td>\n",
       "      <td>100</td>\n",
       "      <td>50</td>\n",
       "      <td>30</td>\n",
       "      <td>1</td>\n",
       "      <td>16008</td>\n",
       "    </tr>\n",
       "    <tr>\n",
       "      <th>2</th>\n",
       "      <td>46</td>\n",
       "      <td>Homme</td>\n",
       "      <td>Lyon</td>\n",
       "      <td>2023-05-21</td>\n",
       "      <td>400</td>\n",
       "      <td>90</td>\n",
       "      <td>200</td>\n",
       "      <td>18</td>\n",
       "      <td>0</td>\n",
       "      <td>17987</td>\n",
       "    </tr>\n",
       "    <tr>\n",
       "      <th>3</th>\n",
       "      <td>32</td>\n",
       "      <td>Homme</td>\n",
       "      <td>Tokyo</td>\n",
       "      <td>2021-03-31</td>\n",
       "      <td>200</td>\n",
       "      <td>120</td>\n",
       "      <td>50</td>\n",
       "      <td>60</td>\n",
       "      <td>1</td>\n",
       "      <td>72532</td>\n",
       "    </tr>\n",
       "    <tr>\n",
       "      <th>4</th>\n",
       "      <td>60</td>\n",
       "      <td>Femme</td>\n",
       "      <td>Tokyo</td>\n",
       "      <td>2021-05-02</td>\n",
       "      <td>150</td>\n",
       "      <td>100</td>\n",
       "      <td>100</td>\n",
       "      <td>18</td>\n",
       "      <td>0</td>\n",
       "      <td>13332</td>\n",
       "    </tr>\n",
       "  </tbody>\n",
       "</table>\n",
       "</div>"
      ],
      "text/plain": [
       "   Age   Sexe      Ville    DateTest  Glucose  BloodPressure  Insulin  BMI  \\\n",
       "0   56  Homme  Marseille  2023-07-07      100            140      200   15   \n",
       "1   69  Femme      Tokyo  2021-07-13      400            100       50   30   \n",
       "2   46  Homme       Lyon  2023-05-21      400             90      200   18   \n",
       "3   32  Homme      Tokyo  2021-03-31      200            120       50   60   \n",
       "4   60  Femme      Tokyo  2021-05-02      150            100      100   18   \n",
       "\n",
       "   Outcome  TestID  \n",
       "0        1   34162  \n",
       "1        1   16008  \n",
       "2        0   17987  \n",
       "3        1   72532  \n",
       "4        0   13332  "
      ]
     },
     "execution_count": 21,
     "metadata": {},
     "output_type": "execute_result"
    }
   ],
   "source": [
    "#Afficher les 5 premieres lignes\n",
    "print(\"afficher les données de df_main:\")\n",
    "df_main.head()"
   ]
  },
  {
   "cell_type": "code",
   "execution_count": 22,
   "id": "a656606f-e88a-4ff9-a1dd-83eb136665f5",
   "metadata": {},
   "outputs": [
    {
     "name": "stdout",
     "output_type": "stream",
     "text": [
      "afficher les données de df_labs:\n"
     ]
    },
    {
     "data": {
      "text/html": [
       "<div>\n",
       "<style scoped>\n",
       "    .dataframe tbody tr th:only-of-type {\n",
       "        vertical-align: middle;\n",
       "    }\n",
       "\n",
       "    .dataframe tbody tr th {\n",
       "        vertical-align: top;\n",
       "    }\n",
       "\n",
       "    .dataframe thead th {\n",
       "        text-align: right;\n",
       "    }\n",
       "</style>\n",
       "<table border=\"1\" class=\"dataframe\">\n",
       "  <thead>\n",
       "    <tr style=\"text-align: right;\">\n",
       "      <th></th>\n",
       "      <th>TestID</th>\n",
       "      <th>Cholesterol</th>\n",
       "      <th>Triglycerides</th>\n",
       "      <th>DateTest</th>\n",
       "      <th>Ville</th>\n",
       "    </tr>\n",
       "  </thead>\n",
       "  <tbody>\n",
       "    <tr>\n",
       "      <th>0</th>\n",
       "      <td>33548</td>\n",
       "      <td>200</td>\n",
       "      <td>50</td>\n",
       "      <td>2021-10-24</td>\n",
       "      <td>Lyon</td>\n",
       "    </tr>\n",
       "    <tr>\n",
       "      <th>1</th>\n",
       "      <td>73221</td>\n",
       "      <td>200</td>\n",
       "      <td>100</td>\n",
       "      <td>2023-08-08</td>\n",
       "      <td>Nice</td>\n",
       "    </tr>\n",
       "    <tr>\n",
       "      <th>2</th>\n",
       "      <td>47265</td>\n",
       "      <td>200</td>\n",
       "      <td>150</td>\n",
       "      <td>2022-11-11</td>\n",
       "      <td>Marseille</td>\n",
       "    </tr>\n",
       "    <tr>\n",
       "      <th>3</th>\n",
       "      <td>50701</td>\n",
       "      <td>200</td>\n",
       "      <td>100</td>\n",
       "      <td>2022-01-13</td>\n",
       "      <td>Lyon</td>\n",
       "    </tr>\n",
       "    <tr>\n",
       "      <th>4</th>\n",
       "      <td>61287</td>\n",
       "      <td>200</td>\n",
       "      <td>200</td>\n",
       "      <td>2022-02-25</td>\n",
       "      <td>Lyon</td>\n",
       "    </tr>\n",
       "  </tbody>\n",
       "</table>\n",
       "</div>"
      ],
      "text/plain": [
       "   TestID  Cholesterol  Triglycerides    DateTest      Ville\n",
       "0   33548          200             50  2021-10-24       Lyon\n",
       "1   73221          200            100  2023-08-08       Nice\n",
       "2   47265          200            150  2022-11-11  Marseille\n",
       "3   50701          200            100  2022-01-13       Lyon\n",
       "4   61287          200            200  2022-02-25       Lyon"
      ]
     },
     "execution_count": 22,
     "metadata": {},
     "output_type": "execute_result"
    }
   ],
   "source": [
    "#Afficher les 5 premieres lignes  \n",
    "print(\"afficher les données de df_labs:\")\n",
    "df_labs.head()"
   ]
  },
  {
   "cell_type": "code",
   "execution_count": 23,
   "id": "4da0de62-382d-4c39-bf76-e6b72923d162",
   "metadata": {},
   "outputs": [
    {
     "name": "stdout",
     "output_type": "stream",
     "text": [
      "verifier les données de df_main :\n"
     ]
    },
    {
     "data": {
      "text/plain": [
       "Age               int64\n",
       "Sexe             object\n",
       "Ville            object\n",
       "DateTest         object\n",
       "Glucose           int64\n",
       "BloodPressure     int64\n",
       "Insulin           int64\n",
       "BMI               int64\n",
       "Outcome           int64\n",
       "TestID            int64\n",
       "dtype: object"
      ]
     },
     "execution_count": 23,
     "metadata": {},
     "output_type": "execute_result"
    }
   ],
   "source": [
    "#verifier les données\n",
    "print(\"verifier les données de df_main :\")\n",
    "df_main.dtypes"
   ]
  },
  {
   "cell_type": "code",
   "execution_count": 25,
   "id": "f63295e1-2826-44a6-9927-187feb4b08c4",
   "metadata": {},
   "outputs": [
    {
     "name": "stdout",
     "output_type": "stream",
     "text": [
      "verifier les données de df_labs :\n"
     ]
    },
    {
     "data": {
      "text/plain": [
       "TestID            int64\n",
       "Cholesterol       int64\n",
       "Triglycerides     int64\n",
       "DateTest         object\n",
       "Ville            object\n",
       "dtype: object"
      ]
     },
     "execution_count": 25,
     "metadata": {},
     "output_type": "execute_result"
    }
   ],
   "source": [
    "#verifier les données\n",
    "print(\"verifier les données de df_labs :\")\n",
    "df_labs.dtypes"
   ]
  },
  {
   "cell_type": "code",
   "execution_count": 33,
   "id": "63f98fe2-22b4-4d97-9fae-a3224ddb8706",
   "metadata": {},
   "outputs": [
    {
     "name": "stdout",
     "output_type": "stream",
     "text": [
      "doublons pour df_main\n"
     ]
    },
    {
     "data": {
      "text/plain": [
       "10"
      ]
     },
     "execution_count": 33,
     "metadata": {},
     "output_type": "execute_result"
    }
   ],
   "source": [
    "# cherhcher les doublons\n",
    "print(\"doublons pour df_main\")\n",
    "df_main.duplicated().sum()"
   ]
  },
  {
   "cell_type": "code",
   "execution_count": 34,
   "id": "bc3bdbab-a32d-44c4-a0be-b8dcba282726",
   "metadata": {},
   "outputs": [
    {
     "name": "stdout",
     "output_type": "stream",
     "text": [
      "doublons pour df_labs\n"
     ]
    },
    {
     "data": {
      "text/plain": [
       "0"
      ]
     },
     "execution_count": 34,
     "metadata": {},
     "output_type": "execute_result"
    }
   ],
   "source": [
    "print(\"doublons pour df_labs\")\n",
    "df_labs.duplicated().sum()"
   ]
  },
  {
   "cell_type": "code",
   "execution_count": 35,
   "id": "67fa6def-8785-4009-a14d-9e529e8a33d7",
   "metadata": {},
   "outputs": [
    {
     "name": "stdout",
     "output_type": "stream",
     "text": [
      "valeurs manquantes de df_main\n"
     ]
    },
    {
     "data": {
      "text/plain": [
       "Age              0\n",
       "Sexe             0\n",
       "Ville            0\n",
       "DateTest         0\n",
       "Glucose          0\n",
       "BloodPressure    0\n",
       "Insulin          0\n",
       "BMI              0\n",
       "Outcome          0\n",
       "TestID           0\n",
       "dtype: int64"
      ]
     },
     "execution_count": 35,
     "metadata": {},
     "output_type": "execute_result"
    }
   ],
   "source": [
    "#verifier les valeurs manquantes\n",
    "print(\"valeurs manquantes de df_main\")\n",
    "df_main.isnull().sum()"
   ]
  },
  {
   "cell_type": "code",
   "execution_count": 63,
   "id": "ebff00a8-71d5-4774-a848-8e280f7e008a",
   "metadata": {},
   "outputs": [
    {
     "name": "stdout",
     "output_type": "stream",
     "text": [
      "valeurs manquantes de df_labs\n"
     ]
    },
    {
     "data": {
      "text/plain": [
       "TestID           0\n",
       "Cholesterol      0\n",
       "Triglycerides    0\n",
       "DateTest         0\n",
       "Ville            0\n",
       "dtype: int64"
      ]
     },
     "execution_count": 63,
     "metadata": {},
     "output_type": "execute_result"
    }
   ],
   "source": [
    "print(\"valeurs manquantes de df_labs\")\n",
    "df_labs.isnull().sum()"
   ]
  },
  {
   "cell_type": "code",
   "execution_count": 75,
   "id": "58073977-9dff-45e1-975b-a57519e41457",
   "metadata": {},
   "outputs": [],
   "source": [
    "#identification des valeurs manquantes\n",
    "cols=['Glucose','BloodPressure','Insulin']\n",
    "for col in cols:\n",
    "    df_main[col]=df_main[col].replace(0,np.nan)"
   ]
  },
  {
   "cell_type": "code",
   "execution_count": 72,
   "id": "ebfb6e80-e65d-4734-946d-c45988c164ca",
   "metadata": {},
   "outputs": [
    {
     "data": {
      "text/plain": [
       "<bound method DataFrame.isnull of      Age   Sexe      Ville    DateTest  Glucose  BloodPressure  Insulin  BMI  \\\n",
       "0     56  Homme  Marseille  2023-07-07    100.0            140      200   15   \n",
       "1     69  Femme      Tokyo  2021-07-13    400.0            100       50   30   \n",
       "2     46  Homme       Lyon  2023-05-21    400.0             90      200   18   \n",
       "3     32  Homme      Tokyo  2021-03-31    200.0            120       50   60   \n",
       "4     60  Femme      Tokyo  2021-05-02    150.0            100      100   18   \n",
       "..   ...    ...        ...         ...      ...            ...      ...  ...   \n",
       "773   77  Femme      Tokyo  2022-05-30      NaN             80      100   60   \n",
       "774   24  Femme       Nice  2022-11-01      NaN             80      200   18   \n",
       "775   29  Femme       Lyon  2022-04-27    200.0            100      100   18   \n",
       "776   29  Femme       Lyon  2022-04-27    200.0            100      100   18   \n",
       "777   61  Homme       Lyon  2021-12-26    250.0             90      -45   30   \n",
       "\n",
       "     Outcome  TestID  \n",
       "0          1   34162  \n",
       "1          1   16008  \n",
       "2          0   17987  \n",
       "3          1   72532  \n",
       "4          0   13332  \n",
       "..       ...     ...  \n",
       "773        1   29782  \n",
       "774        0   59737  \n",
       "775        0   20313  \n",
       "776        0   20313  \n",
       "777        0   52317  \n",
       "\n",
       "[778 rows x 10 columns]>"
      ]
     },
     "execution_count": 72,
     "metadata": {},
     "output_type": "execute_result"
    }
   ],
   "source": [
    "df_main.isnull"
   ]
  },
  {
   "cell_type": "code",
   "execution_count": 79,
   "id": "36998bad-eeb4-4d2f-8838-08dce8ba9673",
   "metadata": {},
   "outputs": [
    {
     "data": {
      "text/plain": [
       "0      100.0\n",
       "1      400.0\n",
       "2      400.0\n",
       "3      200.0\n",
       "4      150.0\n",
       "       ...  \n",
       "773    200.0\n",
       "774    200.0\n",
       "775    200.0\n",
       "776    200.0\n",
       "777    250.0\n",
       "Name: Glucose, Length: 778, dtype: float64"
      ]
     },
     "execution_count": 79,
     "metadata": {},
     "output_type": "execute_result"
    }
   ],
   "source": [
    "#traitements des données manquantes\n",
    "df_main['Glucose'].fillna(df_main['Glucose'].median( ))"
   ]
  },
  {
   "cell_type": "code",
   "execution_count": 167,
   "id": "2a6dd1d8-dd1a-4769-a0d0-bb45de07e08a",
   "metadata": {},
   "outputs": [],
   "source": [
    "#detection des valeurs\n",
    "df_main['Insulin']=df_main['Insulin'].apply(lambda x:np.nan if x<0 else x )"
   ]
  },
  {
   "cell_type": "code",
   "execution_count": 193,
   "id": "02a92a16-a590-4d6a-8885-e2dfa8d863a6",
   "metadata": {},
   "outputs": [
    {
     "data": {
      "text/html": [
       "<div>\n",
       "<style scoped>\n",
       "    .dataframe tbody tr th:only-of-type {\n",
       "        vertical-align: middle;\n",
       "    }\n",
       "\n",
       "    .dataframe tbody tr th {\n",
       "        vertical-align: top;\n",
       "    }\n",
       "\n",
       "    .dataframe thead th {\n",
       "        text-align: right;\n",
       "    }\n",
       "</style>\n",
       "<table border=\"1\" class=\"dataframe\">\n",
       "  <thead>\n",
       "    <tr style=\"text-align: right;\">\n",
       "      <th></th>\n",
       "      <th>TestID</th>\n",
       "      <th>Cholesterol</th>\n",
       "      <th>Triglycerides</th>\n",
       "      <th>DateTest</th>\n",
       "      <th>Ville</th>\n",
       "    </tr>\n",
       "  </thead>\n",
       "  <tbody>\n",
       "    <tr>\n",
       "      <th>0</th>\n",
       "      <td>33548</td>\n",
       "      <td>200</td>\n",
       "      <td>50</td>\n",
       "      <td>2021-10-24</td>\n",
       "      <td>Lyon</td>\n",
       "    </tr>\n",
       "    <tr>\n",
       "      <th>1</th>\n",
       "      <td>73221</td>\n",
       "      <td>200</td>\n",
       "      <td>100</td>\n",
       "      <td>2023-08-08</td>\n",
       "      <td>Nice</td>\n",
       "    </tr>\n",
       "    <tr>\n",
       "      <th>2</th>\n",
       "      <td>47265</td>\n",
       "      <td>200</td>\n",
       "      <td>150</td>\n",
       "      <td>2022-11-11</td>\n",
       "      <td>Marseille</td>\n",
       "    </tr>\n",
       "    <tr>\n",
       "      <th>3</th>\n",
       "      <td>50701</td>\n",
       "      <td>200</td>\n",
       "      <td>100</td>\n",
       "      <td>2022-01-13</td>\n",
       "      <td>Lyon</td>\n",
       "    </tr>\n",
       "    <tr>\n",
       "      <th>4</th>\n",
       "      <td>61287</td>\n",
       "      <td>200</td>\n",
       "      <td>200</td>\n",
       "      <td>2022-02-25</td>\n",
       "      <td>Lyon</td>\n",
       "    </tr>\n",
       "    <tr>\n",
       "      <th>...</th>\n",
       "      <td>...</td>\n",
       "      <td>...</td>\n",
       "      <td>...</td>\n",
       "      <td>...</td>\n",
       "      <td>...</td>\n",
       "    </tr>\n",
       "    <tr>\n",
       "      <th>763</th>\n",
       "      <td>92867</td>\n",
       "      <td>100</td>\n",
       "      <td>50</td>\n",
       "      <td>2023-04-30</td>\n",
       "      <td>Lyon</td>\n",
       "    </tr>\n",
       "    <tr>\n",
       "      <th>764</th>\n",
       "      <td>47528</td>\n",
       "      <td>200</td>\n",
       "      <td>300</td>\n",
       "      <td>2023-04-13</td>\n",
       "      <td>Paris</td>\n",
       "    </tr>\n",
       "    <tr>\n",
       "      <th>765</th>\n",
       "      <td>88972</td>\n",
       "      <td>250</td>\n",
       "      <td>300</td>\n",
       "      <td>2021-12-05</td>\n",
       "      <td>Tokyo</td>\n",
       "    </tr>\n",
       "    <tr>\n",
       "      <th>766</th>\n",
       "      <td>75602</td>\n",
       "      <td>250</td>\n",
       "      <td>100</td>\n",
       "      <td>2022-01-22</td>\n",
       "      <td>Tokyo</td>\n",
       "    </tr>\n",
       "    <tr>\n",
       "      <th>767</th>\n",
       "      <td>43332</td>\n",
       "      <td>900</td>\n",
       "      <td>150</td>\n",
       "      <td>2023-11-15</td>\n",
       "      <td>Toulouse</td>\n",
       "    </tr>\n",
       "  </tbody>\n",
       "</table>\n",
       "<p>768 rows × 5 columns</p>\n",
       "</div>"
      ],
      "text/plain": [
       "     TestID  Cholesterol  Triglycerides    DateTest      Ville\n",
       "0     33548          200             50  2021-10-24       Lyon\n",
       "1     73221          200            100  2023-08-08       Nice\n",
       "2     47265          200            150  2022-11-11  Marseille\n",
       "3     50701          200            100  2022-01-13       Lyon\n",
       "4     61287          200            200  2022-02-25       Lyon\n",
       "..      ...          ...            ...         ...        ...\n",
       "763   92867          100             50  2023-04-30       Lyon\n",
       "764   47528          200            300  2023-04-13      Paris\n",
       "765   88972          250            300  2021-12-05      Tokyo\n",
       "766   75602          250            100  2022-01-22      Tokyo\n",
       "767   43332          900            150  2023-11-15   Toulouse\n",
       "\n",
       "[768 rows x 5 columns]"
      ]
     },
     "execution_count": 193,
     "metadata": {},
     "output_type": "execute_result"
    }
   ],
   "source": [
    "data"
   ]
  },
  {
   "cell_type": "code",
   "execution_count": 196,
   "id": "342d6266-ebea-41c0-acf2-b1b17cfd364a",
   "metadata": {},
   "outputs": [],
   "source": [
    "df_main['Glucose']=df_main['Glucose'].apply(lambda y:np.nan if y==0 else y)"
   ]
  },
  {
   "cell_type": "code",
   "execution_count": 197,
   "id": "2736c293-b670-4ce2-92d8-1dabb4ee1a60",
   "metadata": {},
   "outputs": [
    {
     "data": {
      "text/plain": [
       "<bound method DataFrame.isna of      TestID  Cholesterol  Triglycerides    DateTest      Ville\n",
       "0     33548          200             50  2021-10-24       Lyon\n",
       "1     73221          200            100  2023-08-08       Nice\n",
       "2     47265          200            150  2022-11-11  Marseille\n",
       "3     50701          200            100  2022-01-13       Lyon\n",
       "4     61287          200            200  2022-02-25       Lyon\n",
       "..      ...          ...            ...         ...        ...\n",
       "763   92867          100             50  2023-04-30       Lyon\n",
       "764   47528          200            300  2023-04-13      Paris\n",
       "765   88972          250            300  2021-12-05      Tokyo\n",
       "766   75602          250            100  2022-01-22      Tokyo\n",
       "767   43332          900            150  2023-11-15   Toulouse\n",
       "\n",
       "[768 rows x 5 columns]>"
      ]
     },
     "execution_count": 197,
     "metadata": {},
     "output_type": "execute_result"
    }
   ],
   "source": [
    "data.isna"
   ]
  },
  {
   "cell_type": "code",
   "execution_count": 188,
   "id": "75c9a591-87c7-4f37-a11e-871031ec88ed",
   "metadata": {},
   "outputs": [],
   "source": [
    "#valeurs hors des plages plausibles\n",
    "df_main.loc[(df_main['BloodPressure'] <30)|(df_main['BloodPressure'] >200),'BloodPressure']=np.nan"
   ]
  },
  {
   "cell_type": "code",
   "execution_count": 189,
   "id": "144fd66c-f4d9-43c0-8f4f-be83943da13e",
   "metadata": {},
   "outputs": [
    {
     "data": {
      "text/plain": [
       "<bound method DataFrame.isna of      Age   Sexe      Ville    DateTest  Glucose  BloodPressure  Insulin  BMI  \\\n",
       "0     56  Homme  Marseille  2023-07-07      NaN          140.0     True   15   \n",
       "1     69  Femme      Tokyo  2021-07-13      NaN          100.0     True   30   \n",
       "2     46  Homme       Lyon  2023-05-21      NaN           90.0     True   18   \n",
       "3     32  Homme      Tokyo  2021-03-31      NaN          120.0     True   60   \n",
       "4     60  Femme      Tokyo  2021-05-02      NaN          100.0     True   18   \n",
       "..   ...    ...        ...         ...      ...            ...      ...  ...   \n",
       "763   72  Femme      Tokyo  2023-09-12      NaN          120.0     True   30   \n",
       "764   30  Homme      Paris  2022-07-02      NaN           80.0     True   25   \n",
       "765   40  Homme       Nice  2022-12-26      NaN           80.0     True   22   \n",
       "766   42  Homme   Toulouse  2023-07-15      NaN          120.0     True   15   \n",
       "767   52  Femme       Lyon  2023-05-26      NaN          140.0     True   15   \n",
       "\n",
       "     Outcome  TestID  \n",
       "0          1   34162  \n",
       "1          1   16008  \n",
       "2          0   17987  \n",
       "3          1   72532  \n",
       "4          0   13332  \n",
       "..       ...     ...  \n",
       "763        1   33777  \n",
       "764        1   67939  \n",
       "765        0   63026  \n",
       "766        1   96450  \n",
       "767        0   39553  \n",
       "\n",
       "[768 rows x 10 columns]>"
      ]
     },
     "execution_count": 189,
     "metadata": {},
     "output_type": "execute_result"
    }
   ],
   "source": [
    "df_main.isna"
   ]
  },
  {
   "cell_type": "code",
   "execution_count": 172,
   "id": "ea6d73a7-a468-4641-97b2-2636da1b7a24",
   "metadata": {},
   "outputs": [
    {
     "data": {
      "text/plain": [
       "0      homme\n",
       "1      femme\n",
       "2      homme\n",
       "3      homme\n",
       "4      femme\n",
       "       ...  \n",
       "773    femme\n",
       "774    femme\n",
       "775    femme\n",
       "776    femme\n",
       "777    homme\n",
       "Name: Sexe, Length: 778, dtype: object"
      ]
     },
     "execution_count": 172,
     "metadata": {},
     "output_type": "execute_result"
    }
   ],
   "source": [
    "#Standardisez les données textuelles  \n",
    "df_main['Sexe'].str.lower().str.strip().replace({'femelle':'femme','masculin':'homme'})"
   ]
  },
  {
   "cell_type": "code",
   "execution_count": 173,
   "id": "b2309373-fcb7-4282-8db4-403daef53343",
   "metadata": {},
   "outputs": [
    {
     "data": {
      "text/plain": [
       "0      Marseille\n",
       "1          Tokyo\n",
       "2           Lyon\n",
       "3          Tokyo\n",
       "4          Tokyo\n",
       "         ...    \n",
       "773        Tokyo\n",
       "774         Nice\n",
       "775         Lyon\n",
       "776         Lyon\n",
       "777         Lyon\n",
       "Name: Ville, Length: 778, dtype: object"
      ]
     },
     "execution_count": 173,
     "metadata": {},
     "output_type": "execute_result"
    }
   ],
   "source": [
    "df_main['Ville'].str.title().str.strip()"
   ]
  },
  {
   "cell_type": "code",
   "execution_count": 183,
   "id": "3eb7512a-d35b-48e1-98c5-9cc248b5ed2a",
   "metadata": {},
   "outputs": [
    {
     "ename": "TypeError",
     "evalue": "'<=' not supported between instances of 'str' and 'Timestamp'",
     "output_type": "error",
     "traceback": [
      "\u001b[1;31m---------------------------------------------------------------------------\u001b[0m",
      "\u001b[1;31mTypeError\u001b[0m                                 Traceback (most recent call last)",
      "Cell \u001b[1;32mIn[183], line 2\u001b[0m\n\u001b[0;32m      1\u001b[0m \u001b[38;5;66;03m#Convertissez toutes les dates au même format \u001b[39;00m\n\u001b[1;32m----> 2\u001b[0m df_main\u001b[38;5;241m=\u001b[39mdf_main[df_main[\u001b[38;5;124m'\u001b[39m\u001b[38;5;124mDateTest\u001b[39m\u001b[38;5;124m'\u001b[39m] \u001b[38;5;241m<\u001b[39m\u001b[38;5;241m=\u001b[39mpd\u001b[38;5;241m.\u001b[39mTimestamp\u001b[38;5;241m.\u001b[39mtoday()]\n",
      "File \u001b[1;32mC:\\anaconda\\Lib\\site-packages\\pandas\\core\\ops\\common.py:76\u001b[0m, in \u001b[0;36m_unpack_zerodim_and_defer.<locals>.new_method\u001b[1;34m(self, other)\u001b[0m\n\u001b[0;32m     72\u001b[0m             \u001b[38;5;28;01mreturn\u001b[39;00m \u001b[38;5;28mNotImplemented\u001b[39m\n\u001b[0;32m     74\u001b[0m other \u001b[38;5;241m=\u001b[39m item_from_zerodim(other)\n\u001b[1;32m---> 76\u001b[0m \u001b[38;5;28;01mreturn\u001b[39;00m method(\u001b[38;5;28mself\u001b[39m, other)\n",
      "File \u001b[1;32mC:\\anaconda\\Lib\\site-packages\\pandas\\core\\arraylike.py:52\u001b[0m, in \u001b[0;36mOpsMixin.__le__\u001b[1;34m(self, other)\u001b[0m\n\u001b[0;32m     50\u001b[0m \u001b[38;5;129m@unpack_zerodim_and_defer\u001b[39m(\u001b[38;5;124m\"\u001b[39m\u001b[38;5;124m__le__\u001b[39m\u001b[38;5;124m\"\u001b[39m)\n\u001b[0;32m     51\u001b[0m \u001b[38;5;28;01mdef\u001b[39;00m \u001b[38;5;21m__le__\u001b[39m(\u001b[38;5;28mself\u001b[39m, other):\n\u001b[1;32m---> 52\u001b[0m     \u001b[38;5;28;01mreturn\u001b[39;00m \u001b[38;5;28mself\u001b[39m\u001b[38;5;241m.\u001b[39m_cmp_method(other, operator\u001b[38;5;241m.\u001b[39mle)\n",
      "File \u001b[1;32mC:\\anaconda\\Lib\\site-packages\\pandas\\core\\series.py:6119\u001b[0m, in \u001b[0;36mSeries._cmp_method\u001b[1;34m(self, other, op)\u001b[0m\n\u001b[0;32m   6116\u001b[0m lvalues \u001b[38;5;241m=\u001b[39m \u001b[38;5;28mself\u001b[39m\u001b[38;5;241m.\u001b[39m_values\n\u001b[0;32m   6117\u001b[0m rvalues \u001b[38;5;241m=\u001b[39m extract_array(other, extract_numpy\u001b[38;5;241m=\u001b[39m\u001b[38;5;28;01mTrue\u001b[39;00m, extract_range\u001b[38;5;241m=\u001b[39m\u001b[38;5;28;01mTrue\u001b[39;00m)\n\u001b[1;32m-> 6119\u001b[0m res_values \u001b[38;5;241m=\u001b[39m ops\u001b[38;5;241m.\u001b[39mcomparison_op(lvalues, rvalues, op)\n\u001b[0;32m   6121\u001b[0m \u001b[38;5;28;01mreturn\u001b[39;00m \u001b[38;5;28mself\u001b[39m\u001b[38;5;241m.\u001b[39m_construct_result(res_values, name\u001b[38;5;241m=\u001b[39mres_name)\n",
      "File \u001b[1;32mC:\\anaconda\\Lib\\site-packages\\pandas\\core\\ops\\array_ops.py:344\u001b[0m, in \u001b[0;36mcomparison_op\u001b[1;34m(left, right, op)\u001b[0m\n\u001b[0;32m    341\u001b[0m     \u001b[38;5;28;01mreturn\u001b[39;00m invalid_comparison(lvalues, rvalues, op)\n\u001b[0;32m    343\u001b[0m \u001b[38;5;28;01melif\u001b[39;00m lvalues\u001b[38;5;241m.\u001b[39mdtype \u001b[38;5;241m==\u001b[39m \u001b[38;5;28mobject\u001b[39m \u001b[38;5;129;01mor\u001b[39;00m \u001b[38;5;28misinstance\u001b[39m(rvalues, \u001b[38;5;28mstr\u001b[39m):\n\u001b[1;32m--> 344\u001b[0m     res_values \u001b[38;5;241m=\u001b[39m comp_method_OBJECT_ARRAY(op, lvalues, rvalues)\n\u001b[0;32m    346\u001b[0m \u001b[38;5;28;01melse\u001b[39;00m:\n\u001b[0;32m    347\u001b[0m     res_values \u001b[38;5;241m=\u001b[39m _na_arithmetic_op(lvalues, rvalues, op, is_cmp\u001b[38;5;241m=\u001b[39m\u001b[38;5;28;01mTrue\u001b[39;00m)\n",
      "File \u001b[1;32mC:\\anaconda\\Lib\\site-packages\\pandas\\core\\ops\\array_ops.py:129\u001b[0m, in \u001b[0;36mcomp_method_OBJECT_ARRAY\u001b[1;34m(op, x, y)\u001b[0m\n\u001b[0;32m    127\u001b[0m     result \u001b[38;5;241m=\u001b[39m libops\u001b[38;5;241m.\u001b[39mvec_compare(x\u001b[38;5;241m.\u001b[39mravel(), y\u001b[38;5;241m.\u001b[39mravel(), op)\n\u001b[0;32m    128\u001b[0m \u001b[38;5;28;01melse\u001b[39;00m:\n\u001b[1;32m--> 129\u001b[0m     result \u001b[38;5;241m=\u001b[39m libops\u001b[38;5;241m.\u001b[39mscalar_compare(x\u001b[38;5;241m.\u001b[39mravel(), y, op)\n\u001b[0;32m    130\u001b[0m \u001b[38;5;28;01mreturn\u001b[39;00m result\u001b[38;5;241m.\u001b[39mreshape(x\u001b[38;5;241m.\u001b[39mshape)\n",
      "File \u001b[1;32mops.pyx:107\u001b[0m, in \u001b[0;36mpandas._libs.ops.scalar_compare\u001b[1;34m()\u001b[0m\n",
      "\u001b[1;31mTypeError\u001b[0m: '<=' not supported between instances of 'str' and 'Timestamp'"
     ]
    }
   ],
   "source": [
    "#Convertissez toutes les dates au même format \n",
    "df_main=df_main[df_main['DateTest'] <=pd.Timestamp.today()]"
   ]
  },
  {
   "cell_type": "code",
   "execution_count": 187,
   "id": "ef7bf862-88be-444d-9fc5-f542d0b007f5",
   "metadata": {},
   "outputs": [],
   "source": [
    "df_main.drop_duplicates(inplace=True)"
   ]
  },
  {
   "cell_type": "code",
   "execution_count": 198,
   "id": "f335de0b-3fb6-4c00-b382-8f78e7d99ec7",
   "metadata": {},
   "outputs": [
    {
     "data": {
      "text/html": [
       "<div>\n",
       "<style scoped>\n",
       "    .dataframe tbody tr th:only-of-type {\n",
       "        vertical-align: middle;\n",
       "    }\n",
       "\n",
       "    .dataframe tbody tr th {\n",
       "        vertical-align: top;\n",
       "    }\n",
       "\n",
       "    .dataframe thead th {\n",
       "        text-align: right;\n",
       "    }\n",
       "</style>\n",
       "<table border=\"1\" class=\"dataframe\">\n",
       "  <thead>\n",
       "    <tr style=\"text-align: right;\">\n",
       "      <th></th>\n",
       "      <th>Age</th>\n",
       "      <th>Glucose</th>\n",
       "      <th>BloodPressure</th>\n",
       "      <th>BMI</th>\n",
       "      <th>Outcome</th>\n",
       "      <th>TestID</th>\n",
       "    </tr>\n",
       "  </thead>\n",
       "  <tbody>\n",
       "    <tr>\n",
       "      <th>count</th>\n",
       "      <td>768.000000</td>\n",
       "      <td>0.0</td>\n",
       "      <td>768.000000</td>\n",
       "      <td>768.000000</td>\n",
       "      <td>768.000000</td>\n",
       "      <td>768.000000</td>\n",
       "    </tr>\n",
       "    <tr>\n",
       "      <th>mean</th>\n",
       "      <td>49.949219</td>\n",
       "      <td>NaN</td>\n",
       "      <td>109.479167</td>\n",
       "      <td>28.609375</td>\n",
       "      <td>0.483073</td>\n",
       "      <td>53126.768229</td>\n",
       "    </tr>\n",
       "    <tr>\n",
       "      <th>std</th>\n",
       "      <td>18.071097</td>\n",
       "      <td>NaN</td>\n",
       "      <td>21.634382</td>\n",
       "      <td>15.020057</td>\n",
       "      <td>0.500039</td>\n",
       "      <td>26675.022389</td>\n",
       "    </tr>\n",
       "    <tr>\n",
       "      <th>min</th>\n",
       "      <td>18.000000</td>\n",
       "      <td>NaN</td>\n",
       "      <td>80.000000</td>\n",
       "      <td>15.000000</td>\n",
       "      <td>0.000000</td>\n",
       "      <td>10060.000000</td>\n",
       "    </tr>\n",
       "    <tr>\n",
       "      <th>25%</th>\n",
       "      <td>35.750000</td>\n",
       "      <td>NaN</td>\n",
       "      <td>90.000000</td>\n",
       "      <td>18.000000</td>\n",
       "      <td>0.000000</td>\n",
       "      <td>30023.000000</td>\n",
       "    </tr>\n",
       "    <tr>\n",
       "      <th>50%</th>\n",
       "      <td>50.000000</td>\n",
       "      <td>NaN</td>\n",
       "      <td>100.000000</td>\n",
       "      <td>25.000000</td>\n",
       "      <td>0.000000</td>\n",
       "      <td>50978.000000</td>\n",
       "    </tr>\n",
       "    <tr>\n",
       "      <th>75%</th>\n",
       "      <td>66.000000</td>\n",
       "      <td>NaN</td>\n",
       "      <td>130.000000</td>\n",
       "      <td>30.000000</td>\n",
       "      <td>1.000000</td>\n",
       "      <td>77009.000000</td>\n",
       "    </tr>\n",
       "    <tr>\n",
       "      <th>max</th>\n",
       "      <td>79.000000</td>\n",
       "      <td>NaN</td>\n",
       "      <td>140.000000</td>\n",
       "      <td>60.000000</td>\n",
       "      <td>1.000000</td>\n",
       "      <td>99962.000000</td>\n",
       "    </tr>\n",
       "  </tbody>\n",
       "</table>\n",
       "</div>"
      ],
      "text/plain": [
       "              Age  Glucose  BloodPressure         BMI     Outcome  \\\n",
       "count  768.000000      0.0     768.000000  768.000000  768.000000   \n",
       "mean    49.949219      NaN     109.479167   28.609375    0.483073   \n",
       "std     18.071097      NaN      21.634382   15.020057    0.500039   \n",
       "min     18.000000      NaN      80.000000   15.000000    0.000000   \n",
       "25%     35.750000      NaN      90.000000   18.000000    0.000000   \n",
       "50%     50.000000      NaN     100.000000   25.000000    0.000000   \n",
       "75%     66.000000      NaN     130.000000   30.000000    1.000000   \n",
       "max     79.000000      NaN     140.000000   60.000000    1.000000   \n",
       "\n",
       "             TestID  \n",
       "count    768.000000  \n",
       "mean   53126.768229  \n",
       "std    26675.022389  \n",
       "min    10060.000000  \n",
       "25%    30023.000000  \n",
       "50%    50978.000000  \n",
       "75%    77009.000000  \n",
       "max    99962.000000  "
      ]
     },
     "execution_count": 198,
     "metadata": {},
     "output_type": "execute_result"
    }
   ],
   "source": [
    "df_main.describe()"
   ]
  },
  {
   "cell_type": "code",
   "execution_count": 199,
   "id": "b4fea175-5b21-437a-ab2a-9c242c7df94e",
   "metadata": {},
   "outputs": [],
   "source": [
    "df_labs.drop_duplicates(inplace=True)"
   ]
  },
  {
   "cell_type": "code",
   "execution_count": 200,
   "id": "18fbf8e3-837e-4784-a20b-1085e93afa86",
   "metadata": {},
   "outputs": [
    {
     "data": {
      "text/html": [
       "<div>\n",
       "<style scoped>\n",
       "    .dataframe tbody tr th:only-of-type {\n",
       "        vertical-align: middle;\n",
       "    }\n",
       "\n",
       "    .dataframe tbody tr th {\n",
       "        vertical-align: top;\n",
       "    }\n",
       "\n",
       "    .dataframe thead th {\n",
       "        text-align: right;\n",
       "    }\n",
       "</style>\n",
       "<table border=\"1\" class=\"dataframe\">\n",
       "  <thead>\n",
       "    <tr style=\"text-align: right;\">\n",
       "      <th></th>\n",
       "      <th>TestID</th>\n",
       "      <th>Cholesterol</th>\n",
       "      <th>Triglycerides</th>\n",
       "    </tr>\n",
       "  </thead>\n",
       "  <tbody>\n",
       "    <tr>\n",
       "      <th>count</th>\n",
       "      <td>768.000000</td>\n",
       "      <td>768.000000</td>\n",
       "      <td>768.000000</td>\n",
       "    </tr>\n",
       "    <tr>\n",
       "      <th>mean</th>\n",
       "      <td>56488.488281</td>\n",
       "      <td>340.559896</td>\n",
       "      <td>155.403646</td>\n",
       "    </tr>\n",
       "    <tr>\n",
       "      <th>std</th>\n",
       "      <td>26167.534424</td>\n",
       "      <td>275.366437</td>\n",
       "      <td>86.922427</td>\n",
       "    </tr>\n",
       "    <tr>\n",
       "      <th>min</th>\n",
       "      <td>10229.000000</td>\n",
       "      <td>100.000000</td>\n",
       "      <td>50.000000</td>\n",
       "    </tr>\n",
       "    <tr>\n",
       "      <th>25%</th>\n",
       "      <td>34553.000000</td>\n",
       "      <td>200.000000</td>\n",
       "      <td>100.000000</td>\n",
       "    </tr>\n",
       "    <tr>\n",
       "      <th>50%</th>\n",
       "      <td>57357.000000</td>\n",
       "      <td>250.000000</td>\n",
       "      <td>150.000000</td>\n",
       "    </tr>\n",
       "    <tr>\n",
       "      <th>75%</th>\n",
       "      <td>79217.250000</td>\n",
       "      <td>300.000000</td>\n",
       "      <td>200.000000</td>\n",
       "    </tr>\n",
       "    <tr>\n",
       "      <th>max</th>\n",
       "      <td>99941.000000</td>\n",
       "      <td>900.000000</td>\n",
       "      <td>300.000000</td>\n",
       "    </tr>\n",
       "  </tbody>\n",
       "</table>\n",
       "</div>"
      ],
      "text/plain": [
       "             TestID  Cholesterol  Triglycerides\n",
       "count    768.000000   768.000000     768.000000\n",
       "mean   56488.488281   340.559896     155.403646\n",
       "std    26167.534424   275.366437      86.922427\n",
       "min    10229.000000   100.000000      50.000000\n",
       "25%    34553.000000   200.000000     100.000000\n",
       "50%    57357.000000   250.000000     150.000000\n",
       "75%    79217.250000   300.000000     200.000000\n",
       "max    99941.000000   900.000000     300.000000"
      ]
     },
     "execution_count": 200,
     "metadata": {},
     "output_type": "execute_result"
    }
   ],
   "source": [
    "df_labs.describe()"
   ]
  },
  {
   "cell_type": "code",
   "execution_count": 212,
   "id": "dcbf10eb-16d7-428e-8bdc-d567f48808a9",
   "metadata": {},
   "outputs": [],
   "source": [
    "df_labs=pd.DataFrame({'Nom':[],'DAateNaissance':[]})"
   ]
  },
  {
   "cell_type": "code",
   "execution_count": 213,
   "id": "51984bda-5697-4496-be0b-7e1801bc287f",
   "metadata": {},
   "outputs": [
    {
     "data": {
      "text/html": [
       "<div>\n",
       "<style scoped>\n",
       "    .dataframe tbody tr th:only-of-type {\n",
       "        vertical-align: middle;\n",
       "    }\n",
       "\n",
       "    .dataframe tbody tr th {\n",
       "        vertical-align: top;\n",
       "    }\n",
       "\n",
       "    .dataframe thead th {\n",
       "        text-align: right;\n",
       "    }\n",
       "</style>\n",
       "<table border=\"1\" class=\"dataframe\">\n",
       "  <thead>\n",
       "    <tr style=\"text-align: right;\">\n",
       "      <th></th>\n",
       "      <th>Nom</th>\n",
       "      <th>DAateNaissance</th>\n",
       "    </tr>\n",
       "  </thead>\n",
       "  <tbody>\n",
       "    <tr>\n",
       "      <th>count</th>\n",
       "      <td>0.0</td>\n",
       "      <td>0.0</td>\n",
       "    </tr>\n",
       "    <tr>\n",
       "      <th>mean</th>\n",
       "      <td>NaN</td>\n",
       "      <td>NaN</td>\n",
       "    </tr>\n",
       "    <tr>\n",
       "      <th>std</th>\n",
       "      <td>NaN</td>\n",
       "      <td>NaN</td>\n",
       "    </tr>\n",
       "    <tr>\n",
       "      <th>min</th>\n",
       "      <td>NaN</td>\n",
       "      <td>NaN</td>\n",
       "    </tr>\n",
       "    <tr>\n",
       "      <th>25%</th>\n",
       "      <td>NaN</td>\n",
       "      <td>NaN</td>\n",
       "    </tr>\n",
       "    <tr>\n",
       "      <th>50%</th>\n",
       "      <td>NaN</td>\n",
       "      <td>NaN</td>\n",
       "    </tr>\n",
       "    <tr>\n",
       "      <th>75%</th>\n",
       "      <td>NaN</td>\n",
       "      <td>NaN</td>\n",
       "    </tr>\n",
       "    <tr>\n",
       "      <th>max</th>\n",
       "      <td>NaN</td>\n",
       "      <td>NaN</td>\n",
       "    </tr>\n",
       "  </tbody>\n",
       "</table>\n",
       "</div>"
      ],
      "text/plain": [
       "       Nom  DAateNaissance\n",
       "count  0.0             0.0\n",
       "mean   NaN             NaN\n",
       "std    NaN             NaN\n",
       "min    NaN             NaN\n",
       "25%    NaN             NaN\n",
       "50%    NaN             NaN\n",
       "75%    NaN             NaN\n",
       "max    NaN             NaN"
      ]
     },
     "execution_count": 213,
     "metadata": {},
     "output_type": "execute_result"
    }
   ],
   "source": [
    "df_labs.describe()"
   ]
  },
  {
   "cell_type": "code",
   "execution_count": 217,
   "id": "5f5d9f01-7ad9-4e6d-bbbb-ee2758203c1a",
   "metadata": {},
   "outputs": [],
   "source": [
    "df_main=pd.DataFrame({'Nom':[]})"
   ]
  },
  {
   "cell_type": "code",
   "execution_count": 218,
   "id": "52d2697d-cdbb-43d9-9520-113cda19e2b6",
   "metadata": {},
   "outputs": [
    {
     "data": {
      "text/html": [
       "<div>\n",
       "<style scoped>\n",
       "    .dataframe tbody tr th:only-of-type {\n",
       "        vertical-align: middle;\n",
       "    }\n",
       "\n",
       "    .dataframe tbody tr th {\n",
       "        vertical-align: top;\n",
       "    }\n",
       "\n",
       "    .dataframe thead th {\n",
       "        text-align: right;\n",
       "    }\n",
       "</style>\n",
       "<table border=\"1\" class=\"dataframe\">\n",
       "  <thead>\n",
       "    <tr style=\"text-align: right;\">\n",
       "      <th></th>\n",
       "      <th>Nom</th>\n",
       "    </tr>\n",
       "  </thead>\n",
       "  <tbody>\n",
       "    <tr>\n",
       "      <th>count</th>\n",
       "      <td>0.0</td>\n",
       "    </tr>\n",
       "    <tr>\n",
       "      <th>mean</th>\n",
       "      <td>NaN</td>\n",
       "    </tr>\n",
       "    <tr>\n",
       "      <th>std</th>\n",
       "      <td>NaN</td>\n",
       "    </tr>\n",
       "    <tr>\n",
       "      <th>min</th>\n",
       "      <td>NaN</td>\n",
       "    </tr>\n",
       "    <tr>\n",
       "      <th>25%</th>\n",
       "      <td>NaN</td>\n",
       "    </tr>\n",
       "    <tr>\n",
       "      <th>50%</th>\n",
       "      <td>NaN</td>\n",
       "    </tr>\n",
       "    <tr>\n",
       "      <th>75%</th>\n",
       "      <td>NaN</td>\n",
       "    </tr>\n",
       "    <tr>\n",
       "      <th>max</th>\n",
       "      <td>NaN</td>\n",
       "    </tr>\n",
       "  </tbody>\n",
       "</table>\n",
       "</div>"
      ],
      "text/plain": [
       "       Nom\n",
       "count  0.0\n",
       "mean   NaN\n",
       "std    NaN\n",
       "min    NaN\n",
       "25%    NaN\n",
       "50%    NaN\n",
       "75%    NaN\n",
       "max    NaN"
      ]
     },
     "execution_count": 218,
     "metadata": {},
     "output_type": "execute_result"
    }
   ],
   "source": [
    "df_main.describe()"
   ]
  },
  {
   "cell_type": "code",
   "execution_count": 231,
   "id": "43483701-c974-495b-b3b5-aaea0d887449",
   "metadata": {},
   "outputs": [
    {
     "ename": "TypeError",
     "evalue": "merge() missing 1 required positional argument: 'right'",
     "output_type": "error",
     "traceback": [
      "\u001b[1;31m---------------------------------------------------------------------------\u001b[0m",
      "\u001b[1;31mTypeError\u001b[0m                                 Traceback (most recent call last)",
      "Cell \u001b[1;32mIn[231], line 1\u001b[0m\n\u001b[1;32m----> 1\u001b[0m df_main_fusion\u001b[38;5;241m=\u001b[39mpd\u001b[38;5;241m.\u001b[39mmerge(df_main)\n",
      "\u001b[1;31mTypeError\u001b[0m: merge() missing 1 required positional argument: 'right'"
     ]
    }
   ],
   "source": [
    "df_main_fusion=pd.merge(df_main)"
   ]
  },
  {
   "cell_type": "code",
   "execution_count": 232,
   "id": "0af483e6-8db9-4afe-83ab-2d8dab508c2b",
   "metadata": {},
   "outputs": [
    {
     "ename": "NameError",
     "evalue": "name 'df_merged' is not defined",
     "output_type": "error",
     "traceback": [
      "\u001b[1;31m---------------------------------------------------------------------------\u001b[0m",
      "\u001b[1;31mNameError\u001b[0m                                 Traceback (most recent call last)",
      "Cell \u001b[1;32mIn[232], line 1\u001b[0m\n\u001b[1;32m----> 1\u001b[0m df_merged[pd_merged[\u001b[38;5;124m'\u001b[39m\u001b[38;5;124m_merge\u001b[39m\u001b[38;5;124m'\u001b[39m]\u001b[38;5;241m!=\u001b[39m\u001b[38;5;124m'\u001b[39m\u001b[38;5;124mboth\u001b[39m\u001b[38;5;124m'\u001b[39m]\n",
      "\u001b[1;31mNameError\u001b[0m: name 'df_merged' is not defined"
     ]
    }
   ],
   "source": [
    "df_merged[pd_merged['_merge']!='both']"
   ]
  },
  {
   "cell_type": "code",
   "execution_count": 238,
   "id": "b90159e0-1f35-441c-9b9e-04554b1b15ce",
   "metadata": {},
   "outputs": [
    {
     "data": {
      "text/html": [
       "<div>\n",
       "<style scoped>\n",
       "    .dataframe tbody tr th:only-of-type {\n",
       "        vertical-align: middle;\n",
       "    }\n",
       "\n",
       "    .dataframe tbody tr th {\n",
       "        vertical-align: top;\n",
       "    }\n",
       "\n",
       "    .dataframe thead th {\n",
       "        text-align: right;\n",
       "    }\n",
       "</style>\n",
       "<table border=\"1\" class=\"dataframe\">\n",
       "  <thead>\n",
       "    <tr style=\"text-align: right;\">\n",
       "      <th></th>\n",
       "      <th>Age</th>\n",
       "      <th>Sexe</th>\n",
       "      <th>Ville</th>\n",
       "      <th>DateTest</th>\n",
       "      <th>Glucose</th>\n",
       "      <th>BloodPressure</th>\n",
       "      <th>Insulin</th>\n",
       "      <th>BMI</th>\n",
       "      <th>Outcome</th>\n",
       "      <th>TestID</th>\n",
       "    </tr>\n",
       "  </thead>\n",
       "  <tbody>\n",
       "    <tr>\n",
       "      <th>0</th>\n",
       "      <td>56</td>\n",
       "      <td>Homme</td>\n",
       "      <td>Marseille</td>\n",
       "      <td>2023-07-07</td>\n",
       "      <td>100</td>\n",
       "      <td>140</td>\n",
       "      <td>200</td>\n",
       "      <td>15</td>\n",
       "      <td>1</td>\n",
       "      <td>34162</td>\n",
       "    </tr>\n",
       "    <tr>\n",
       "      <th>1</th>\n",
       "      <td>69</td>\n",
       "      <td>Femme</td>\n",
       "      <td>Tokyo</td>\n",
       "      <td>2021-07-13</td>\n",
       "      <td>400</td>\n",
       "      <td>100</td>\n",
       "      <td>50</td>\n",
       "      <td>30</td>\n",
       "      <td>1</td>\n",
       "      <td>16008</td>\n",
       "    </tr>\n",
       "    <tr>\n",
       "      <th>2</th>\n",
       "      <td>46</td>\n",
       "      <td>Homme</td>\n",
       "      <td>Lyon</td>\n",
       "      <td>2023-05-21</td>\n",
       "      <td>400</td>\n",
       "      <td>90</td>\n",
       "      <td>200</td>\n",
       "      <td>18</td>\n",
       "      <td>0</td>\n",
       "      <td>17987</td>\n",
       "    </tr>\n",
       "    <tr>\n",
       "      <th>3</th>\n",
       "      <td>32</td>\n",
       "      <td>Homme</td>\n",
       "      <td>Tokyo</td>\n",
       "      <td>2021-03-31</td>\n",
       "      <td>200</td>\n",
       "      <td>120</td>\n",
       "      <td>50</td>\n",
       "      <td>60</td>\n",
       "      <td>1</td>\n",
       "      <td>72532</td>\n",
       "    </tr>\n",
       "    <tr>\n",
       "      <th>4</th>\n",
       "      <td>60</td>\n",
       "      <td>Femme</td>\n",
       "      <td>Tokyo</td>\n",
       "      <td>2021-05-02</td>\n",
       "      <td>150</td>\n",
       "      <td>100</td>\n",
       "      <td>100</td>\n",
       "      <td>18</td>\n",
       "      <td>0</td>\n",
       "      <td>13332</td>\n",
       "    </tr>\n",
       "  </tbody>\n",
       "</table>\n",
       "</div>"
      ],
      "text/plain": [
       "   Age   Sexe      Ville    DateTest  Glucose  BloodPressure  Insulin  BMI  \\\n",
       "0   56  Homme  Marseille  2023-07-07      100            140      200   15   \n",
       "1   69  Femme      Tokyo  2021-07-13      400            100       50   30   \n",
       "2   46  Homme       Lyon  2023-05-21      400             90      200   18   \n",
       "3   32  Homme      Tokyo  2021-03-31      200            120       50   60   \n",
       "4   60  Femme      Tokyo  2021-05-02      150            100      100   18   \n",
       "\n",
       "   Outcome  TestID  \n",
       "0        1   34162  \n",
       "1        1   16008  \n",
       "2        0   17987  \n",
       "3        1   72532  \n",
       "4        0   13332  "
      ]
     },
     "execution_count": 238,
     "metadata": {},
     "output_type": "execute_result"
    }
   ],
   "source": [
    "df_main = pd.read_csv(\"df_main.csv\")  # À adapter selon le nom du fichier\n",
    "\n",
    "df_main.head()"
   ]
  },
  {
   "cell_type": "code",
   "execution_count": 245,
   "id": "7e53871a-923d-4754-a6d9-e6db431b9c0c",
   "metadata": {},
   "outputs": [
    {
     "data": {
      "text/html": [
       "<div>\n",
       "<style scoped>\n",
       "    .dataframe tbody tr th:only-of-type {\n",
       "        vertical-align: middle;\n",
       "    }\n",
       "\n",
       "    .dataframe tbody tr th {\n",
       "        vertical-align: top;\n",
       "    }\n",
       "\n",
       "    .dataframe thead th {\n",
       "        text-align: right;\n",
       "    }\n",
       "</style>\n",
       "<table border=\"1\" class=\"dataframe\">\n",
       "  <thead>\n",
       "    <tr style=\"text-align: right;\">\n",
       "      <th></th>\n",
       "      <th>TestID</th>\n",
       "      <th>Cholesterol</th>\n",
       "      <th>Triglycerides</th>\n",
       "      <th>DateTest</th>\n",
       "      <th>Ville</th>\n",
       "    </tr>\n",
       "  </thead>\n",
       "  <tbody>\n",
       "    <tr>\n",
       "      <th>0</th>\n",
       "      <td>33548</td>\n",
       "      <td>200</td>\n",
       "      <td>50</td>\n",
       "      <td>2021-10-24</td>\n",
       "      <td>Lyon</td>\n",
       "    </tr>\n",
       "    <tr>\n",
       "      <th>1</th>\n",
       "      <td>73221</td>\n",
       "      <td>200</td>\n",
       "      <td>100</td>\n",
       "      <td>2023-08-08</td>\n",
       "      <td>Nice</td>\n",
       "    </tr>\n",
       "    <tr>\n",
       "      <th>2</th>\n",
       "      <td>47265</td>\n",
       "      <td>200</td>\n",
       "      <td>150</td>\n",
       "      <td>2022-11-11</td>\n",
       "      <td>Marseille</td>\n",
       "    </tr>\n",
       "    <tr>\n",
       "      <th>3</th>\n",
       "      <td>50701</td>\n",
       "      <td>200</td>\n",
       "      <td>100</td>\n",
       "      <td>2022-01-13</td>\n",
       "      <td>Lyon</td>\n",
       "    </tr>\n",
       "    <tr>\n",
       "      <th>4</th>\n",
       "      <td>61287</td>\n",
       "      <td>200</td>\n",
       "      <td>200</td>\n",
       "      <td>2022-02-25</td>\n",
       "      <td>Lyon</td>\n",
       "    </tr>\n",
       "  </tbody>\n",
       "</table>\n",
       "</div>"
      ],
      "text/plain": [
       "   TestID  Cholesterol  Triglycerides    DateTest      Ville\n",
       "0   33548          200             50  2021-10-24       Lyon\n",
       "1   73221          200            100  2023-08-08       Nice\n",
       "2   47265          200            150  2022-11-11  Marseille\n",
       "3   50701          200            100  2022-01-13       Lyon\n",
       "4   61287          200            200  2022-02-25       Lyon"
      ]
     },
     "execution_count": 245,
     "metadata": {},
     "output_type": "execute_result"
    }
   ],
   "source": [
    "df_labs = pd.read_csv(\"df_labs.csv\")  \n",
    "\n",
    "df_labs.head()"
   ]
  },
  {
   "cell_type": "code",
   "execution_count": 243,
   "id": "a0e5cd43-0bc3-4462-8f42-3eb2aef5b6cf",
   "metadata": {},
   "outputs": [],
   "source": [
    "# Variables principales à explorer (ajoutez 'Cholesterol' si disponible)\n",
    "variables = ['Glucose', 'BMI', 'BloodPressure']\n",
    "variables = ['Cholesterol']"
   ]
  },
  {
   "cell_type": "code",
   "execution_count": 246,
   "id": "4b4ec3fa-d724-4843-9c28-f5962c28db33",
   "metadata": {},
   "outputs": [
    {
     "data": {
      "image/png": "[encoded data removed]",
      "text/plain": [
       "<Figure size 700x400 with 1 Axes>"
      ]
     },
     "metadata": {},
     "output_type": "display_data"
    },
    {
     "data": {
      "image/png": "[encoded data removed]",
      "text/plain": [
       "<Figure size 700x400 with 1 Axes>"
      ]
     },
     "metadata": {},
     "output_type": "display_data"
    },
    {
     "data": {
      "image/png": "[encoded data removed]",
      "text/plain": [
       "<Figure size 700x400 with 1 Axes>"
      ]
     },
     "metadata": {},
     "output_type": "display_data"
    },
    {
     "ename": "KeyError",
     "evalue": "'Cholesterol'",
     "output_type": "error",
     "traceback": [
      "\u001b[1;31m---------------------------------------------------------------------------\u001b[0m",
      "\u001b[1;31mKeyError\u001b[0m                                  Traceback (most recent call last)",
      "File \u001b[1;32mC:\\anaconda\\Lib\\site-packages\\pandas\\core\\indexes\\base.py:3805\u001b[0m, in \u001b[0;36mIndex.get_loc\u001b[1;34m(self, key)\u001b[0m\n\u001b[0;32m   3804\u001b[0m \u001b[38;5;28;01mtry\u001b[39;00m:\n\u001b[1;32m-> 3805\u001b[0m     \u001b[38;5;28;01mreturn\u001b[39;00m \u001b[38;5;28mself\u001b[39m\u001b[38;5;241m.\u001b[39m_engine\u001b[38;5;241m.\u001b[39mget_loc(casted_key)\n\u001b[0;32m   3806\u001b[0m \u001b[38;5;28;01mexcept\u001b[39;00m \u001b[38;5;167;01mKeyError\u001b[39;00m \u001b[38;5;28;01mas\u001b[39;00m err:\n",
      "File \u001b[1;32mindex.pyx:167\u001b[0m, in \u001b[0;36mpandas._libs.index.IndexEngine.get_loc\u001b[1;34m()\u001b[0m\n",
      "File \u001b[1;32mindex.pyx:196\u001b[0m, in \u001b[0;36mpandas._libs.index.IndexEngine.get_loc\u001b[1;34m()\u001b[0m\n",
      "File \u001b[1;32mpandas\\\\_libs\\\\hashtable_class_helper.pxi:7081\u001b[0m, in \u001b[0;36mpandas._libs.hashtable.PyObjectHashTable.get_item\u001b[1;34m()\u001b[0m\n",
      "File \u001b[1;32mpandas\\\\_libs\\\\hashtable_class_helper.pxi:7089\u001b[0m, in \u001b[0;36mpandas._libs.hashtable.PyObjectHashTable.get_item\u001b[1;34m()\u001b[0m\n",
      "\u001b[1;31mKeyError\u001b[0m: 'Cholesterol'",
      "\nThe above exception was the direct cause of the following exception:\n",
      "\u001b[1;31mKeyError\u001b[0m                                  Traceback (most recent call last)",
      "Cell \u001b[1;32mIn[246], line 4\u001b[0m\n\u001b[0;32m      2\u001b[0m \u001b[38;5;28;01mfor\u001b[39;00m var \u001b[38;5;129;01min\u001b[39;00m variables:\n\u001b[0;32m      3\u001b[0m     plt\u001b[38;5;241m.\u001b[39mfigure(figsize\u001b[38;5;241m=\u001b[39m(\u001b[38;5;241m7\u001b[39m, \u001b[38;5;241m4\u001b[39m))\n\u001b[1;32m----> 4\u001b[0m     sns\u001b[38;5;241m.\u001b[39mhistplot(df[var], kde\u001b[38;5;241m=\u001b[39m\u001b[38;5;28;01mTrue\u001b[39;00m, bins\u001b[38;5;241m=\u001b[39m\u001b[38;5;241m30\u001b[39m, color\u001b[38;5;241m=\u001b[39m\u001b[38;5;124m'\u001b[39m\u001b[38;5;124mteal\u001b[39m\u001b[38;5;124m'\u001b[39m)\n\u001b[0;32m      5\u001b[0m     plt\u001b[38;5;241m.\u001b[39mtitle(\u001b[38;5;124mf\u001b[39m\u001b[38;5;124m'\u001b[39m\u001b[38;5;124mDistribution de \u001b[39m\u001b[38;5;132;01m{\u001b[39;00mvar\u001b[38;5;132;01m}\u001b[39;00m\u001b[38;5;124m'\u001b[39m)\n\u001b[0;32m      6\u001b[0m     plt\u001b[38;5;241m.\u001b[39mxlabel(var)\n",
      "File \u001b[1;32mC:\\anaconda\\Lib\\site-packages\\pandas\\core\\frame.py:4102\u001b[0m, in \u001b[0;36mDataFrame.__getitem__\u001b[1;34m(self, key)\u001b[0m\n\u001b[0;32m   4100\u001b[0m \u001b[38;5;28;01mif\u001b[39;00m \u001b[38;5;28mself\u001b[39m\u001b[38;5;241m.\u001b[39mcolumns\u001b[38;5;241m.\u001b[39mnlevels \u001b[38;5;241m>\u001b[39m \u001b[38;5;241m1\u001b[39m:\n\u001b[0;32m   4101\u001b[0m     \u001b[38;5;28;01mreturn\u001b[39;00m \u001b[38;5;28mself\u001b[39m\u001b[38;5;241m.\u001b[39m_getitem_multilevel(key)\n\u001b[1;32m-> 4102\u001b[0m indexer \u001b[38;5;241m=\u001b[39m \u001b[38;5;28mself\u001b[39m\u001b[38;5;241m.\u001b[39mcolumns\u001b[38;5;241m.\u001b[39mget_loc(key)\n\u001b[0;32m   4103\u001b[0m \u001b[38;5;28;01mif\u001b[39;00m is_integer(indexer):\n\u001b[0;32m   4104\u001b[0m     indexer \u001b[38;5;241m=\u001b[39m [indexer]\n",
      "File \u001b[1;32mC:\\anaconda\\Lib\\site-packages\\pandas\\core\\indexes\\base.py:3812\u001b[0m, in \u001b[0;36mIndex.get_loc\u001b[1;34m(self, key)\u001b[0m\n\u001b[0;32m   3807\u001b[0m     \u001b[38;5;28;01mif\u001b[39;00m \u001b[38;5;28misinstance\u001b[39m(casted_key, \u001b[38;5;28mslice\u001b[39m) \u001b[38;5;129;01mor\u001b[39;00m (\n\u001b[0;32m   3808\u001b[0m         \u001b[38;5;28misinstance\u001b[39m(casted_key, abc\u001b[38;5;241m.\u001b[39mIterable)\n\u001b[0;32m   3809\u001b[0m         \u001b[38;5;129;01mand\u001b[39;00m \u001b[38;5;28many\u001b[39m(\u001b[38;5;28misinstance\u001b[39m(x, \u001b[38;5;28mslice\u001b[39m) \u001b[38;5;28;01mfor\u001b[39;00m x \u001b[38;5;129;01min\u001b[39;00m casted_key)\n\u001b[0;32m   3810\u001b[0m     ):\n\u001b[0;32m   3811\u001b[0m         \u001b[38;5;28;01mraise\u001b[39;00m InvalidIndexError(key)\n\u001b[1;32m-> 3812\u001b[0m     \u001b[38;5;28;01mraise\u001b[39;00m \u001b[38;5;167;01mKeyError\u001b[39;00m(key) \u001b[38;5;28;01mfrom\u001b[39;00m \u001b[38;5;21;01merr\u001b[39;00m\n\u001b[0;32m   3813\u001b[0m \u001b[38;5;28;01mexcept\u001b[39;00m \u001b[38;5;167;01mTypeError\u001b[39;00m:\n\u001b[0;32m   3814\u001b[0m     \u001b[38;5;66;03m# If we have a listlike key, _check_indexing_error will raise\u001b[39;00m\n\u001b[0;32m   3815\u001b[0m     \u001b[38;5;66;03m#  InvalidIndexError. Otherwise we fall through and re-raise\u001b[39;00m\n\u001b[0;32m   3816\u001b[0m     \u001b[38;5;66;03m#  the TypeError.\u001b[39;00m\n\u001b[0;32m   3817\u001b[0m     \u001b[38;5;28mself\u001b[39m\u001b[38;5;241m.\u001b[39m_check_indexing_error(key)\n",
      "\u001b[1;31mKeyError\u001b[0m: 'Cholesterol'"
     ]
    },
    {
     "data": {
      "text/plain": [
       "<Figure size 700x400 with 0 Axes>"
      ]
     },
     "metadata": {},
     "output_type": "display_data"
    }
   ],
   "source": [
    "# Affichage des distributions\n",
    "for var in variables:\n",
    "    plt.figure(figsize=(7, 4))\n",
    "    sns.histplot(df[var], kde=True, bins=30, color='teal')\n",
    "    plt.title(f'Distribution de {var}')\n",
    "    plt.xlabel(var)\n",
    "    plt.ylabel('Fréquence')\n",
    "    plt.grid(True)\n",
    "    plt.tight_layout()\n",
    "    plt.show()"
   ]
  },
  {
   "cell_type": "code",
   "execution_count": 254,
   "id": "70def89c-2ace-4b58-a664-be7dbd297492",
   "metadata": {},
   "outputs": [],
   "source": [
    "#Charger le fichier CSV\n",
    "df_main = pd.read_csv(\"df_main.csv\")"
   ]
  },
  {
   "cell_type": "code",
   "execution_count": 255,
   "id": "91ba2c41-7de0-47a5-927b-9d67a68703ed",
   "metadata": {},
   "outputs": [],
   "source": [
    "#Calculer les corrélations avec la variable cible 'Outcome'\n",
    "correlations = df_main.corr(numeric_only=True)['Outcome'].sort_values(ascending=False)"
   ]
  },
  {
   "cell_type": "code",
   "execution_count": 260,
   "id": "6c6992fe-77b9-43b8-9abb-9a4526464309",
   "metadata": {
    "scrolled": true
   },
   "outputs": [
    {
     "name": "stdout",
     "output_type": "stream",
     "text": [
      "Outcome          1.000000\n",
      "Age              0.054507\n",
      "Insulin          0.022108\n",
      "BMI              0.003441\n",
      "Glucose         -0.016716\n",
      "TestID          -0.035460\n",
      "BloodPressure   -0.052465\n",
      "Name: Outcome, dtype: float64\n"
     ]
    }
   ],
   "source": [
    "# Afficher les résultats\n",
    "print(correlations)"
   ]
  },
  {
   "cell_type": "code",
   "execution_count": 273,
   "id": "01bd60eb-990d-4ab8-beab-e62c31374d95",
   "metadata": {},
   "outputs": [],
   "source": [
    "def age_group(age):\n",
    "    if age < 30:\n",
    "        return 'Jeune'\n",
    "    elif age < 50:\n",
    "        return 'Adulte'\n",
    "    else:\n",
    "        return 'Senior'\n",
    "\n",
    "df['Age_Group'] = df['Age'].apply(age_group)"
   ]
  },
  {
   "cell_type": "code",
   "execution_count": 277,
   "id": "f6e97d21-77b8-428b-83ef-bda6ca5e2ae7",
   "metadata": {},
   "outputs": [],
   "source": [
    "df['High_Glucose'] = df['Glucose'].apply(lambda x: 1 if x >= 140 else 0)\n"
   ]
  },
  {
   "cell_type": "code",
   "execution_count": null,
   "id": "0b54eadd-f66d-49fc-b1b0-d012364ce004",
   "metadata": {},
   "outputs": [],
   "source": []
  }
 ],
 "metadata": {
  "kernelspec": {
   "display_name": "Python 3 (ipykernel)",
   "language": "python",
   "name": "python3"
  },
  "language_info": {
   "codemirror_mode": {
    "name": "ipython",
    "version": 3
   },
   "file_extension": ".py",
   "mimetype": "text/x-python",
   "name": "python",
   "nbconvert_exporter": "python",
   "pygments_lexer": "ipython3",
   "version": "3.12.7"
  }
 },
 "nbformat": 4,
 "nbformat_minor": 5
}
